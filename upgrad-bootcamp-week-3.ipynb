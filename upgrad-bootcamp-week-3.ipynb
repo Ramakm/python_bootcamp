{
 "cells": [
  {
   "cell_type": "markdown",
   "metadata": {},
   "source": [
    "# upgrad-bootcamp-week-3\n",
    "\n",
    "Use the \"Run\" button to execute the code."
   ]
  },
  {
   "cell_type": "code",
   "execution_count": null,
   "metadata": {},
   "outputs": [],
   "source": [
    "!pip install jovian --upgrade --quiet"
   ]
  },
  {
   "cell_type": "code",
   "execution_count": null,
   "metadata": {},
   "outputs": [],
   "source": [
    "import jovian"
   ]
  },
  {
   "cell_type": "code",
   "execution_count": null,
   "metadata": {},
   "outputs": [],
   "source": [
    "# Execute this to save new versions of the notebook\n",
    "jovian.commit(project=\"upgrad-bootcamp-week-3\")"
   ]
  },
  {
   "cell_type": "markdown",
   "metadata": {},
   "source": [
    "# Practice Exercise: Map, Filter and Reduce"
   ]
  },
  {
   "cell_type": "markdown",
   "metadata": {},
   "source": [
    "Map Function:\n",
    "\n",
    "Description:\n",
    "\n",
    "Using the function Map, count the number of words that start with ‘S’ in input_list.\n",
    "\n",
    "Sample Input:\n",
    "\n",
    "['Santa Cruz','Santa fe','Mumbai','Delhi']\n",
    "\n",
    "Sample Output:\n",
    "2"
   ]
  },
  {
   "cell_type": "code",
   "execution_count": null,
   "metadata": {},
   "outputs": [],
   "source": [
    "import ast,sys\n",
    "input_str = sys.stdin.read()\n",
    "input_list = ast.literal_eval(input_str)\n",
    "\n",
    "div = list(map(lambda x:x[0] in 'Ss',input_list))\n",
    "\n",
    "print(div.count(True))\n",
    "\n",
    "#Note Don't take len( ) with this code as we are checking x[0] in \"Ss\" so the return values will be a list of True and false.\n",
    "# So in len() it will count it all means result will be 4 instead of 2"
   ]
  },
  {
   "cell_type": "markdown",
   "metadata": {},
   "source": [
    "Description\n",
    "Create a list ‘name’ consisting of the combination of the first name and the second name from list 1 and 2 respectively. \n",
    "\n",
    "For e.g. if the input list is:\n",
    "[ ['Ankur', 'Avik', 'Kiran', 'Nitin'], ['Narang', 'Sarkar', 'R', 'Sareen']]\n",
    "\n",
    "the output list should be the list:\n",
    "['Ankur Narang', 'Avik Sarkar', 'Kiran R', 'Nitin Sareen']\n",
    "\n",
    "Note: Add a space between first name and last name."
   ]
  },
  {
   "cell_type": "code",
   "execution_count": null,
   "metadata": {},
   "outputs": [],
   "source": [
    "import ast,sys\n",
    "input_str = sys.stdin.read()\n",
    "input_list = ast.literal_eval(input_str)\n",
    "first_name = input_list[0]\n",
    "last_name = input_list[1]\n",
    "\n",
    "name = list(map(lambda l1,l2:(l1+\" \"+l2),first_name,last_name))\n",
    "\n",
    "print(name)"
   ]
  },
  {
   "cell_type": "markdown",
   "metadata": {},
   "source": [
    "OR"
   ]
  },
  {
   "cell_type": "code",
   "execution_count": null,
   "metadata": {},
   "outputs": [],
   "source": [
    "l3_app=lambda l1,l2:(l1+\" \"+l2)\n",
    "\n",
    "l3=[]\n",
    "for i in range(len(l1)):\n",
    "    l3.append(l3_app(l1[i],l2[i]))\n",
    "print(l3)"
   ]
  },
  {
   "cell_type": "markdown",
   "metadata": {},
   "source": [
    "Filter Function\n",
    "Description\n",
    "Extract a list of numbers that are multiples of 5 from a list of integers named input_list.\n",
    "\n",
    "Sample Input:\n",
    "\n",
    "[1, 2, 3, 4, 5, 6, 7, 8, 9, 10, 11, 12, 13, 14, 15, 16, 17, 18, 19, 20, 21, 22, 23, 24, 25, 26, 27, 28, 29, 30, 31, 32, 33, 34, 35, 36, 37, 38, 39, 40, 41, 42, 43, 44, 45, 46, 47, 48, 49, 50]\n",
    "\n",
    "Sample Output:\n",
    "\n",
    "[5, 10, 15, 20, 25, 30, 35, 40, 45, 50]"
   ]
  },
  {
   "cell_type": "code",
   "execution_count": null,
   "metadata": {},
   "outputs": [],
   "source": [
    "import ast,sys\n",
    "input_str = sys.stdin.read()\n",
    "input_list = ast.literal_eval(input_str)\n",
    "\n",
    "list_answer = list(filter(lambda x: x%5 ==0, input_list))\n",
    "\n",
    "print(list_answer)"
   ]
  },
  {
   "cell_type": "markdown",
   "metadata": {},
   "source": [
    "Filter Function\n",
    "Description\n",
    "You are given a list of strings such as input_list = ['hdjk', 'salsap', 'sherpa'].\n",
    "\n",
    "Extract a list of names that start with an ‘s’ and end with a ‘p’ (both 's' and 'p' are lowercase) in input_list.\n",
    "\n",
    "Sample Input:\n",
    "\n",
    "['soap','sharp','shy','silent','ship','summer','sheep']\n",
    "\n",
    "Sample Output:\n",
    "\n",
    "['soap', 'sharp', 'ship', 'sheep']"
   ]
  },
  {
   "cell_type": "code",
   "execution_count": null,
   "metadata": {},
   "outputs": [],
   "source": [
    "import ast,sys\n",
    "input_str = sys.stdin.read()\n",
    "input_list = ast.literal_eval(input_str)\n",
    "\n",
    "sp = list(filter(lambda word: word.startswith('s') and word.endswith('p'),input_list))\n",
    "\n",
    "print(sp)"
   ]
  },
  {
   "cell_type": "markdown",
   "metadata": {},
   "source": [
    "Reduce Function\n",
    "Description\n",
    "Using the Reduce function, concatenate a list of words in input_list, and print the output as a string.\n",
    "\n",
    "If input_list = ['I','Love','Python'], the output should be the string 'I Love Python'.\n",
    "\n",
    "Sample Input:\n",
    "\n",
    "['All','you','have','to','fear','is','fear','itself']\n",
    "\n",
    "Sample Output:\n",
    "\n",
    "﻿All you have to fear is fear itself"
   ]
  },
  {
   "cell_type": "code",
   "execution_count": null,
   "metadata": {},
   "outputs": [],
   "source": [
    "import ast,sys\n",
    "input_str = sys.stdin.read()\n",
    "input_list = ast.literal_eval(input_str)\n",
    "\n",
    "from functools import reduce\n",
    "\n",
    "final_string = reduce(lambda x, y: x+\" \"+y,input_list )\n",
    "\n",
    "print(final_string)"
   ]
  },
  {
   "cell_type": "markdown",
   "metadata": {},
   "source": [
    "Reduce Function\n",
    "Description\n",
    "You are given a list of numbers such as input_list = [31, 63, 76, 89]. Find and print the largest number in input_list using the reduce() function.\n",
    "\n",
    "Sample Input:\n",
    "\n",
    "[65,76,87,23,12,90,99]\n",
    "Sample Output:\n",
    "99"
   ]
  },
  {
   "cell_type": "code",
   "execution_count": null,
   "metadata": {},
   "outputs": [],
   "source": [
    "import ast,sys\n",
    "input_str = sys.stdin.read()\n",
    "input_list = ast.literal_eval(input_str)\n",
    "from functools import reduce\n",
    "\n",
    "answer = reduce(lambda x, y:y if x<y else x ,input_list )\n",
    "\n",
    "print(answer)"
   ]
  },
  {
   "cell_type": "markdown",
   "metadata": {},
   "source": [
    "# MCQs"
   ]
  },
  {
   "cell_type": "code",
   "execution_count": 1,
   "metadata": {},
   "outputs": [
    {
     "name": "stdout",
     "output_type": "stream",
     "text": [
      "[0, 1, 4, 9, 16]\n"
     ]
    }
   ],
   "source": [
    "#What will be the output of the following code snippet?\n",
    "\n",
    "var = [i**2 for i in range(5)]\n",
    "print(var)"
   ]
  },
  {
   "cell_type": "code",
   "execution_count": 2,
   "metadata": {},
   "outputs": [
    {
     "data": {
      "text/plain": [
       "[5, 6, 7, 10, 6, 7, 8, 11, 7, 8, 9, 12, 11, 12, 13, 16]"
      ]
     },
     "execution_count": 2,
     "metadata": {},
     "output_type": "execute_result"
    }
   ],
   "source": [
    "#What will be the output of the following code?\n",
    "\n",
    "l1=[1,2,3,7]\n",
    "l2=[4,5,6,9]\n",
    "[x+y for x in l1 for y in l2]"
   ]
  },
  {
   "cell_type": "code",
   "execution_count": 3,
   "metadata": {},
   "outputs": [
    {
     "name": "stdout",
     "output_type": "stream",
     "text": [
      "None\n"
     ]
    }
   ],
   "source": [
    "#What will be the output of the following?\n",
    "\n",
    "def function(n):\n",
    "  n=n+1\n",
    " \n",
    "n=2\n",
    "print(function(2))"
   ]
  },
  {
   "cell_type": "code",
   "execution_count": 4,
   "metadata": {},
   "outputs": [
    {
     "name": "stdout",
     "output_type": "stream",
     "text": [
      "10\n",
      "10\n"
     ]
    }
   ],
   "source": [
    "#What will be the output of the below code?\n",
    "\n",
    "x=10\n",
    "def func(x):\n",
    "   x=20\n",
    "print(x)\n",
    " \n",
    "print(x)"
   ]
  },
  {
   "cell_type": "code",
   "execution_count": 5,
   "metadata": {},
   "outputs": [
    {
     "name": "stdout",
     "output_type": "stream",
     "text": [
      "pythonpythonpythonpython\n",
      "programprogramprogram\n"
     ]
    }
   ],
   "source": [
    "#What will be the output of the following?\n",
    "\n",
    "def samplefunc(msg,i=3):\n",
    "  print(msg*i)\n",
    " \n",
    "samplefunc('python',4)\n",
    "samplefunc('program')"
   ]
  },
  {
   "cell_type": "code",
   "execution_count": 6,
   "metadata": {},
   "outputs": [
    {
     "name": "stdout",
     "output_type": "stream",
     "text": [
      "0\n"
     ]
    }
   ],
   "source": [
    "#What will be the output of the following program?\n",
    "\n",
    "f=lambda x:bool(x%2)\n",
    "print(f(100)* f(101))"
   ]
  },
  {
   "cell_type": "code",
   "execution_count": 7,
   "metadata": {},
   "outputs": [
    {
     "name": "stdout",
     "output_type": "stream",
     "text": [
      "[0, -1, -2, 2, 2]\n"
     ]
    }
   ],
   "source": [
    "#What will be the answer printed when the following code is executed?\n",
    "\n",
    "l=(1, -2, -3, 4, 5)\n",
    "def f1(x):\n",
    "    return x//2\n",
    "m1=map(f1, l)\n",
    "print(list(m1))"
   ]
  },
  {
   "cell_type": "code",
   "execution_count": 8,
   "metadata": {},
   "outputs": [
    {
     "name": "stdout",
     "output_type": "stream",
     "text": [
      "0\n"
     ]
    }
   ],
   "source": [
    "#What will be the output of the code below?\n",
    "\n",
    "from functools import reduce\n",
    "numbers = [-1, 2, -5, 3, 8,-2, 1,-4,-2]\n",
    "sum = reduce(lambda x, y: x + y, numbers)\n",
    "print(sum)"
   ]
  },
  {
   "cell_type": "code",
   "execution_count": 12,
   "metadata": {},
   "outputs": [
    {
     "name": "stdout",
     "output_type": "stream",
     "text": [
      "<map object at 0x7fc6900bd7f0>\n"
     ]
    }
   ],
   "source": [
    "#What will be the output of the following code?\n",
    "\n",
    "sample=[-4,2,5,-3]\n",
    "ans=map(lambda x: x*2, sample)\n",
    "print(ans)\n",
    "\n",
    "#Ans = Address of ans"
   ]
  },
  {
   "cell_type": "code",
   "execution_count": 13,
   "metadata": {},
   "outputs": [
    {
     "ename": "TypeError",
     "evalue": "'int' object is not iterable",
     "output_type": "error",
     "traceback": [
      "\u001b[0;31m---------------------------------------------------------------------------\u001b[0m",
      "\u001b[0;31mTypeError\u001b[0m                                 Traceback (most recent call last)",
      "\u001b[0;32m/tmp/ipykernel_38/3819224408.py\u001b[0m in \u001b[0;36m<module>\u001b[0;34m\u001b[0m\n\u001b[1;32m      2\u001b[0m \u001b[0;34m\u001b[0m\u001b[0m\n\u001b[1;32m      3\u001b[0m \u001b[0;32mfrom\u001b[0m \u001b[0mfunctools\u001b[0m \u001b[0;32mimport\u001b[0m \u001b[0mreduce\u001b[0m\u001b[0;34m\u001b[0m\u001b[0;34m\u001b[0m\u001b[0m\n\u001b[0;32m----> 4\u001b[0;31m \u001b[0mprint\u001b[0m\u001b[0;34m(\u001b[0m\u001b[0mlist\u001b[0m\u001b[0;34m(\u001b[0m\u001b[0mreduce\u001b[0m\u001b[0;34m(\u001b[0m\u001b[0;32mlambda\u001b[0m \u001b[0mx\u001b[0m\u001b[0;34m,\u001b[0m\u001b[0my\u001b[0m\u001b[0;34m:\u001b[0m\u001b[0mx\u001b[0m\u001b[0;34m+\u001b[0m\u001b[0my\u001b[0m\u001b[0;34m,\u001b[0m\u001b[0mrange\u001b[0m\u001b[0;34m(\u001b[0m\u001b[0;36m5\u001b[0m\u001b[0;34m,\u001b[0m\u001b[0;36m15\u001b[0m\u001b[0;34m)\u001b[0m\u001b[0;34m)\u001b[0m\u001b[0;34m)\u001b[0m\u001b[0;34m)\u001b[0m\u001b[0;34m\u001b[0m\u001b[0;34m\u001b[0m\u001b[0m\n\u001b[0m",
      "\u001b[0;31mTypeError\u001b[0m: 'int' object is not iterable"
     ]
    }
   ],
   "source": [
    "#What will be the output of the following code snippet?\n",
    "\n",
    "from functools import reduce\n",
    "print(list(reduce(lambda x,y:x+y,range(5,15))))"
   ]
  },
  {
   "cell_type": "code",
   "execution_count": 14,
   "metadata": {},
   "outputs": [
    {
     "name": "stdout",
     "output_type": "stream",
     "text": [
      "[95]\n"
     ]
    }
   ],
   "source": [
    "#correct answer should have been this below:\n",
    "    \n",
    "from functools import reduce\n",
    "\n",
    "lis=[reduce(lambda x,y:x+y,range(5,15))]\n",
    "\n",
    "print(lis)"
   ]
  },
  {
   "cell_type": "code",
   "execution_count": 15,
   "metadata": {},
   "outputs": [
    {
     "name": "stdout",
     "output_type": "stream",
     "text": [
      "1\n",
      "1\n"
     ]
    }
   ],
   "source": [
    "#Is the output of the following two code snippets the same? Are they logically the same for any values in ‘lis’?\n",
    "\n",
    "import functools\n",
    "lis=[1, 2, 3, 4, 5]\n",
    "m=functools.reduce(lambda x, y:x if x<y else y, lis)\n",
    "print(m)\n",
    "lis=[1, 2, 3, 4, 5]\n",
    "c=lis[0]\n",
    "for i in range(len(lis)-1):\n",
    "    if lis[i]<c:\n",
    "       c=lis[i]\n",
    "print(c)"
   ]
  },
  {
   "cell_type": "code",
   "execution_count": 16,
   "metadata": {},
   "outputs": [
    {
     "name": "stdout",
     "output_type": "stream",
     "text": [
      "['dx', 'ix', 'ax', 'sx']\n"
     ]
    }
   ],
   "source": [
    "#What will be the output of the following code?\n",
    "\n",
    "letters = ('d','i','a','s')\n",
    "ans = list(map(lambda word: f\"{word}x\", letters))\n",
    "print(ans)"
   ]
  },
  {
   "cell_type": "code",
   "execution_count": 18,
   "metadata": {},
   "outputs": [
    {
     "name": "stdout",
     "output_type": "stream",
     "text": [
      "[12, 20, 28]\n"
     ]
    }
   ],
   "source": [
    "#Read the following code. Select from the given options the length of the list printed. (Do not run it on the notebook. Try solving manually.)\n",
    "\n",
    "def sf(a):\n",
    "    return a%4==0 and a%8!=0\n",
    "m=filter(sf, range(10, 31))\n",
    "print(list(m))"
   ]
  },
  {
   "cell_type": "markdown",
   "metadata": {},
   "source": [
    "# Practice Questions - I\n"
   ]
  },
  {
   "cell_type": "code",
   "execution_count": null,
   "metadata": {},
   "outputs": [],
   "source": [
    "'''Even numbers in a list\n",
    "Description\n",
    "Given a list of integers, write a python code to find all the even numbers present in the list.\n",
    "\n",
    "Note: Try using lambda and filter functions to solve the problem.\n",
    "\n",
    "Input: A list of integers\n",
    "\n",
    "Output: A list of integers\n",
    "---------------------------------------------------------------------\n",
    "Sample input: [5, 7, 22, 97, 54, 62, 77, 23, 73, 61] \n",
    "\n",
    "Sample output: [22, 54, 62]\n",
    "----------------------------------------------------------------------\n",
    "Sample input: [500, 789, 2112, 9097, 5894, 9062, 8977, 1223, 773, 600]\n",
    "\n",
    "Sample output: [500, 2112, 5894, 9062, 600] '''\n"
   ]
  },
  {
   "cell_type": "code",
   "execution_count": null,
   "metadata": {},
   "outputs": [],
   "source": [
    "import ast,sys\n",
    "input_list = ast.literal_eval(input())\n",
    "\n",
    "even_number_list = list(filter(lambda number: number%2 ==0, input_list))\n",
    "\n",
    "print(even_number_list)"
   ]
  },
  {
   "cell_type": "code",
   "execution_count": null,
   "metadata": {},
   "outputs": [],
   "source": [
    "'''Triple the list elements:\n",
    "    \n",
    "Description:\n",
    "    \n",
    "Given a list of integers, write a python code to triple all the values in the list.\n",
    "\n",
    "Note: Try using lambda and map functions to solve the problem.\n",
    "    \n",
    "Input: A list of integers\n",
    "\n",
    "Output: A list of integers\n",
    "---------------------------------------------------------------------\n",
    "Sample input: [5, 7, 22, 97, 54, 62, 77, 23, 73, 61]\n",
    "\n",
    "Output: [15, 21, 66, 291, 162, 186, 231, 69, 219, 183]\n",
    "----------------------------------------------------------------------\n",
    "Sample input: [15, 71, 2, 9, 5, 6, 11, 3, 7, 6]\n",
    "\n",
    "Output: [45, 213, 6, 27, 15, 18, 33, 9, 21, 18]\n",
    "'''"
   ]
  },
  {
   "cell_type": "code",
   "execution_count": null,
   "metadata": {},
   "outputs": [],
   "source": [
    "import ast,sys\n",
    "\n",
    "input_list = ast.literal_eval(input())\n",
    "\n",
    "result_list = list(map(lambda number : number*3, input_list))\n",
    "\n",
    "print(result_list)"
   ]
  },
  {
   "cell_type": "code",
   "execution_count": null,
   "metadata": {},
   "outputs": [],
   "source": [
    "'''Encrypt elements in a list:\n",
    "    \n",
    "Description:\n",
    "    \n",
    "A company stores the names of their employees in a list. \n",
    "They want to encrypt the names so that no one can read them and the data stays safe. \n",
    "One of the steps in encrypting is to reverse each name in the list and convert them to uppercase and your task is to\n",
    "write a Python code to execute the same.\n",
    "\n",
    "Note: Use lambda and map functions.\n",
    "\n",
    "Input: A list of names\n",
    "\n",
    "Output: A list of encrypted names\n",
    "----------------------------------------------------------------------\n",
    "Sample input: ['Ronaldo', 'Cristiano', 'Rakesh', 'Ronak']\n",
    "\n",
    "Sample output: ['ODLANOR', 'ONAITSIRC', 'HSEKAR', 'KANOR']\n",
    "----------------------------------------------------------------------\n",
    "Sample input: ['Abhay', 'Aravind', 'Desilva', 'Darpan']\n",
    "\n",
    "Sample output: ['YAHBA', 'DNIVARA', 'AVLISED', 'NAPRAD'] '''"
   ]
  },
  {
   "cell_type": "code",
   "execution_count": null,
   "metadata": {},
   "outputs": [],
   "source": [
    "#take input here using ast sys\n",
    "import ast,sys\n",
    "\n",
    "input_list = ast.literal_eval(input())\n",
    "\n",
    "encrypted_list = list(map(lambda name: name[::-1].upper(), input_list))\n",
    "\n",
    "print(encrypted_list)"
   ]
  },
  {
   "cell_type": "markdown",
   "metadata": {},
   "source": [
    "# Practice Questions 2"
   ]
  },
  {
   "cell_type": "code",
   "execution_count": null,
   "metadata": {},
   "outputs": [],
   "source": [
    "'''Sorting a dictionary:\n",
    "\n",
    "Description:\n",
    "\n",
    "Given is a list consisting of dictionary elements. Each dictionary contains the name of a student as a first item \n",
    "his/her corresponding rank as the second item. Your task is to write a Python program to print the list (dictionary elements) in a sorted ascending order according to student ranks. In case the rank of two or more students are the same, then sort them in ascending order (alphabetically) according to their names.\n",
    "\n",
    "Note: Use the sorted() function to solve the question.\n",
    "\n",
    "Input: Dictionary\n",
    "\n",
    "Output: Dictionary\n",
    "\n",
    "----------------------------------------------------------------------\n",
    "Sample input: [{ \"name\" : \"Arpit\", \"rank\" : 20}, { \"name\" : \"Manjeet\", \"rank\" : 20 },{ \"name\" : \"Aravind\" , \"rank\" : 19 }]\n",
    "\n",
    "Sample output: [{ \"name\" : \"Aravind\" , \"rank\" : 19 }, { \"name\" : \"Arpit\", \"rank\" : 20}, { \"name\" : \"Manjeet\", \"rank\" : 20 },\n",
    "\n",
    "]\n",
    "----------------------------------------------------------------------\n",
    "Sample input: [{ \"name\" : \"Mohan\", \"rank\" : 2}, { \"name\" : \"Mandeep\", \"rank\" : 2 },\n",
    "\n",
    "{ \"name\" : \"Merut\" , \"rank\" : 2 }]\n",
    "\n",
    "Sample output: [{'name': 'Mandeep', 'rank': 2}, {'name': 'Merut', 'rank': 2}, {'name': 'Mohan', 'rank': 2}]'''"
   ]
  },
  {
   "cell_type": "code",
   "execution_count": null,
   "metadata": {},
   "outputs": [],
   "source": [
    "import ast,sys\n",
    "\n",
    "input_dict =  ast.literal_eval(input())\n",
    "\n",
    "sorted_list_dict= sorted(input_dict,key=lambda x: (x[\"rank\"],x[\"name\"]))\n",
    "\n",
    "print(sorted_list_dict)"
   ]
  },
  {
   "cell_type": "code",
   "execution_count": null,
   "metadata": {},
   "outputs": [],
   "source": [
    "'''Intersection of lists:\n",
    "    \n",
    "Description:\n",
    "    \n",
    "In ‘ABC’ university, company ‘XYZ’ conducted three rounds of interviews to recruit students. \n",
    "Those students who passed all the rounds were selected. The company released the results\n",
    "for each round in a separate list. Your task is to write a Python code to display the list of \n",
    "the students who passed all the three rounds.\n",
    "\n",
    "Note: a. Name of the person can be given in uppercase or lowercase.\n",
    "\n",
    "b. Print the names in lowercase in the output.\n",
    "Input: List\n",
    "\n",
    "Output: List\n",
    "----------------------------------------------------------------------\n",
    "Sample input: ['Arkam', 'Bairstow', 'Cairy', 'Darpan'] \n",
    "\n",
    " ['ARKAM', 'Bairstow', 'Cairy', 'Darpan', 'Dhoni', 'Sachin']\n",
    "\n",
    " ['arkam', 'bairstow', 'Cheteshwar', 'Dinesh']\n",
    "     \n",
    "\n",
    "Sample output: ['arkam', 'bairstow']\n",
    "----------------------------------------------------------------------\n",
    "Sample input: ['Pranay', 'Aditya', 'Deepesh', 'Sandesh']\n",
    "\n",
    "['Pranoy', 'Surya', 'Cairy', 'Vignesh', 'ADITYA', 'SANDesh']\n",
    "\n",
    "['Vardhan', 'Shailesh', 'aditya', 'sandesh']\n",
    "     \n",
    "\n",
    "Sample output: ['aditya', 'sandesh']\n",
    "----------------------------------------------------------------------\n",
    "\n",
    "Sample input: ['Siddharth', 'Gaurav', 'Prasad', 'Kuldeep', 'karna']\n",
    "\n",
    "['siddharth', 'Gaurav', 'Prasad', 'Kuldeep', 'karna']\n",
    "\n",
    "['Siddharth', 'gaurav', 'PRASAD', 'KuLDEEp', 'KARNA']\n",
    "\n",
    "Sample output: ['siddharth', 'gaurav', 'prasad', 'kuldeep', 'karna']'''"
   ]
  },
  {
   "cell_type": "code",
   "execution_count": null,
   "metadata": {},
   "outputs": [],
   "source": [
    "#Using List Comprehension \n",
    "\n",
    "import ast\n",
    "input_list1=ast.literal_eval(input())\n",
    "input_list2=ast.literal_eval(input())\n",
    "input_list3=ast.literal_eval(input())\n",
    "input_list1=list(map(lambda x:x.lower(),input_list1))\n",
    "input_list2=list(map(lambda x:x.lower(),input_list2))\n",
    "input_list3=list(map(lambda x:x.lower(),input_list3))\n",
    "\n",
    "print(list(filter(lambda x: x in input_list2 and x in input_list3, input_list1)))"
   ]
  },
  {
   "cell_type": "code",
   "execution_count": null,
   "metadata": {},
   "outputs": [],
   "source": [
    "# you can go for converting set to list and finding out its intersection. But remember upgrad console has some specific\n",
    "#format to follow for this question so this might give you some failed test cases. But its correct logic wise.\n",
    "\n",
    "import ast\n",
    "A=ast.literal_eval(input())\n",
    "B=ast.literal_eval(input())\n",
    "C=ast.literal_eval(input())\n",
    "A=[x.lower() for x in A]\n",
    "B=[x.lower() for x in B]\n",
    "C=[x.lower() for x in C]\n",
    "print(list(set(A)& set(B) & set(C)))"
   ]
  },
  {
   "cell_type": "code",
   "execution_count": null,
   "metadata": {},
   "outputs": [],
   "source": [
    "'''Sorting a list of dictionary elements:\n",
    "    \n",
    "Description:\n",
    "    \n",
    "A teacher decided to divide the class into groups to conduct fun activities. Each group had one or more members in it. The data is provided in the form of a list with dictionary elements. The key and value in each dictionary correspond to the student’s roll number and his/her name.\n",
    "\n",
    "In case the length of two or more dictionaries are the same, then the dictionary that occurs first in the input list will also appear first among the other dictionaries of the same length.\n",
    "\n",
    "Your task is to write a Python program to sort the list in descending order with respect to the group strength.﻿\n",
    "\n",
    "Note: Use lambda and sorted functions to solve the question.\n",
    "\n",
    "Input: List\n",
    "\n",
    "Output: List\n",
    "\n",
    "---------------------------------------------------------------------\n",
    "Sample input: [{4: 'Viking', 9: 'Happy', 10: 'Tony', 2: 'Rogers'}, {12: 'Vikram', 19: 'Vipan'}, {3: 'Kohli'}, {1: 'Ronaldo', 29: 'Harish', 7: 'Ganesh'}]\n",
    "\n",
    "Sample output: [{4: 'Viking', 9: 'Happy', 10: 'Tony', 2: 'Rogers'}, {1: 'Ronaldo', 29: 'Harish', 7: 'Ganesh'}, {12: 'Vikram', 19: 'Vipan'}, {3: 'Kohli'}]\n",
    "\n",
    "----------------------------------------------------------------------\n",
    "Sample input: [{14: 'Darpan', 19: 'Harry', 10: 'Julia'}, {12: 'Ethan', 19: 'Rogers'}, {3: 'Kohli', 1: 'Neymar', 29: 'Sachin', 7: 'Ramesh'}]\n",
    "\n",
    "\n",
    "\n",
    "Sample output: [{3: 'Kohli', 1: 'Neymar', 29: 'Sachin', 7: 'Ramesh'}, {14: 'Darpan', 19: 'Harry', 10: 'Julia'}, {12: 'Ethan', 19: 'Rogers'}]'''"
   ]
  },
  {
   "cell_type": "code",
   "execution_count": null,
   "metadata": {},
   "outputs": [],
   "source": [
    "# solution_1: using lambda function\n",
    "\n",
    "import ast\n",
    "\n",
    "input_list = ast.literal_eval(input())\n",
    "\n",
    "sorted_list = sorted(input_list, key=lambda x:len(x),reverse=True)\n",
    "\n",
    "print(sorted_list)"
   ]
  }
 ],
 "metadata": {
  "kernelspec": {
   "display_name": "Python 3 (ipykernel)",
   "language": "python",
   "name": "python3"
  },
  "language_info": {
   "codemirror_mode": {
    "name": "ipython",
    "version": 3
   },
   "file_extension": ".py",
   "mimetype": "text/x-python",
   "name": "python",
   "nbconvert_exporter": "python",
   "pygments_lexer": "ipython3",
   "version": "3.9.6"
  }
 },
 "nbformat": 4,
 "nbformat_minor": 2
}
