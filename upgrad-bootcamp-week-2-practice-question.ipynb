{
 "cells": [
  {
   "cell_type": "markdown",
   "metadata": {},
   "source": [
    "# upgrad-bootcamp-week2-practice\n",
    "\n",
    "Use the \"Run\" button to execute the code."
   ]
  },
  {
   "cell_type": "code",
   "execution_count": null,
   "metadata": {},
   "outputs": [],
   "source": [
    "!pip install jovian --upgrade --quiet"
   ]
  },
  {
   "cell_type": "code",
   "execution_count": null,
   "metadata": {},
   "outputs": [],
   "source": [
    "import jovian"
   ]
  },
  {
   "cell_type": "code",
   "execution_count": null,
   "metadata": {},
   "outputs": [],
   "source": [
    "# Execute this to save new versions of the notebook\n",
    "jovian.commit(project=\"upgrad-bootcamp-week-2-assignments\")"
   ]
  },
  {
   "cell_type": "markdown",
   "metadata": {
    "code_folding": []
   },
   "source": [
    "# MCQs"
   ]
  },
  {
   "cell_type": "code",
   "execution_count": 1,
   "metadata": {},
   "outputs": [
    {
     "ename": "TypeError",
     "evalue": "'str' object cannot be interpreted as an integer",
     "output_type": "error",
     "traceback": [
      "\u001b[0;31m---------------------------------------------------------------------------\u001b[0m",
      "\u001b[0;31mTypeError\u001b[0m                                 Traceback (most recent call last)",
      "\u001b[0;32m/tmp/ipykernel_40/784189707.py\u001b[0m in \u001b[0;36m<module>\u001b[0;34m\u001b[0m\n\u001b[1;32m      2\u001b[0m \u001b[0;34m\u001b[0m\u001b[0m\n\u001b[1;32m      3\u001b[0m \u001b[0ms\u001b[0m \u001b[0;34m=\u001b[0m \u001b[0;34m'a$b@c@d'\u001b[0m\u001b[0;34m\u001b[0m\u001b[0;34m\u001b[0m\u001b[0m\n\u001b[0;32m----> 4\u001b[0;31m \u001b[0mprint\u001b[0m\u001b[0;34m(\u001b[0m\u001b[0ms\u001b[0m\u001b[0;34m.\u001b[0m\u001b[0msplit\u001b[0m\u001b[0;34m(\u001b[0m\u001b[0;34m'@'\u001b[0m\u001b[0;34m,\u001b[0m\u001b[0;34m'$'\u001b[0m\u001b[0;34m)\u001b[0m\u001b[0;34m)\u001b[0m\u001b[0;34m\u001b[0m\u001b[0;34m\u001b[0m\u001b[0m\n\u001b[0m\u001b[1;32m      5\u001b[0m \u001b[0;34m\u001b[0m\u001b[0m\n",
      "\u001b[0;31mTypeError\u001b[0m: 'str' object cannot be interpreted as an integer"
     ]
    }
   ],
   "source": [
    "# What is the output of the following?\n",
    "\n",
    "s = 'a$b@c@d'\n",
    "print(s.split('@','$'))\n",
    "\n",
    "#Ans = Error"
   ]
  },
  {
   "cell_type": "code",
   "execution_count": null,
   "metadata": {},
   "outputs": [],
   "source": [
    "# What is the code to print the element ‘banana’?\n",
    "\n",
    "fruits = ['apple', 'mango', ['grapes', 'papaya'], ('banana', 'pomegranate')]\n",
    "\n",
    "#Ans = fruits[3][0]\n"
   ]
  },
  {
   "cell_type": "code",
   "execution_count": null,
   "metadata": {},
   "outputs": [],
   "source": [
    "# What will the output of the following code be?\n",
    "\n",
    "num_1=[9,4,2,7]\n",
    "num_2=[8,3,6,1]\n",
    "print(sorted(num_1))\n",
    "print(num_1)\n",
    "print(num_2.sort())\n",
    "print(num_2)"
   ]
  },
  {
   "cell_type": "code",
   "execution_count": 3,
   "metadata": {},
   "outputs": [
    {
     "name": "stdout",
     "output_type": "stream",
     "text": [
      "('paris', 'india', 'china', 'london', 'sri lanka')\n"
     ]
    }
   ],
   "source": [
    "#Find the output of the following code.\n",
    "\n",
    "l = ['paris','india','china','london']\n",
    "print(tuple(l+['sri lanka']))"
   ]
  },
  {
   "cell_type": "code",
   "execution_count": 4,
   "metadata": {},
   "outputs": [
    {
     "name": "stdout",
     "output_type": "stream",
     "text": [
      "<class 'int'>\n"
     ]
    }
   ],
   "source": [
    "#What is the output of the following code?\n",
    "\n",
    "var=(5)\n",
    "print(type(var))"
   ]
  },
  {
   "cell_type": "code",
   "execution_count": null,
   "metadata": {},
   "outputs": [],
   "source": [
    "#What is the output of the code given below?\n",
    "\n",
    "tup=([1,3,5],\"abcd\",(2,4),6)\n",
    "tup[0][2]=7\n",
    "print(tup)"
   ]
  },
  {
   "cell_type": "code",
   "execution_count": null,
   "metadata": {},
   "outputs": [],
   "source": [
    "#What will the output of the following code be?\n",
    "\n",
    "a= {1,2,4,5}\n",
    "b= {5,6,7,8}\n",
    "print(a-b)"
   ]
  },
  {
   "cell_type": "code",
   "execution_count": null,
   "metadata": {},
   "outputs": [],
   "source": [
    "# What will the output of the following code be?\n",
    "\n",
    "s= {3,4,5}\n",
    "s*2\n",
    "\n",
    "#Ans = Error "
   ]
  },
  {
   "cell_type": "code",
   "execution_count": null,
   "metadata": {},
   "outputs": [],
   "source": [
    "# What is the output of the following code?\n",
    "\n",
    "numbers= {1,0,6,1,4,0,7}\n",
    "print(len(numbers))"
   ]
  },
  {
   "cell_type": "code",
   "execution_count": null,
   "metadata": {},
   "outputs": [],
   "source": [
    "# What will the output of the following Python code be?\n",
    "\n",
    "dict= {'ab':12,'cd':34,'ef':56}\n",
    "print(dict[1])\n",
    "\n",
    "#Ans = Error"
   ]
  },
  {
   "cell_type": "code",
   "execution_count": null,
   "metadata": {},
   "outputs": [],
   "source": [
    "# What will the output of the following code be?  \n",
    "\n",
    "marks= {'John':45,'Alex':60}\n",
    "print(marks.keys())\n",
    " "
   ]
  },
  {
   "cell_type": "code",
   "execution_count": null,
   "metadata": {},
   "outputs": [],
   "source": [
    "# What is the output of the following code?\n",
    "\n",
    "d = {\"Python\":40, \"R\":45}\n",
    "\"Python\" in d"
   ]
  },
  {
   "cell_type": "code",
   "execution_count": null,
   "metadata": {},
   "outputs": [],
   "source": [
    "# What will the output of the following code be?\n",
    "\n",
    "input_dict= {1:\"one\",2:\"two\",3:\"three\"}\n",
    "for i in input_dict:\n",
    "  print(i)"
   ]
  },
  {
   "cell_type": "code",
   "execution_count": null,
   "metadata": {},
   "outputs": [],
   "source": [
    "# Find the output of the following code snippet.\n",
    "\n",
    "input_str=\"I love programming in python\"\n",
    "count=0\n",
    "l=['a','e','i','o','u']\n",
    "for i in input_str.lower():\n",
    "  if i in l:\n",
    "  \tcount=count+1\n",
    "print(count)"
   ]
  },
  {
   "cell_type": "markdown",
   "metadata": {},
   "source": [
    "#  Practice Question 1"
   ]
  },
  {
   "cell_type": "code",
   "execution_count": null,
   "metadata": {},
   "outputs": [],
   "source": [
    "'''Description\n",
    "Suppose you want to know the total score of the Indian cricket team in a given match. To do so, your task is to find the sum of all the scores of the Indian team players. The scores are provided as a list, with each element as an individual score of the players. Also, there is a condition that if the number of elements in the list is more than 11, then it is an invalid input and the output should be -1.\n",
    "\n",
    "--------------------------------------------------------------------------------------------\n",
    "\n",
    "Input - List\n",
    "\n",
    "Output - An integer\n",
    "--------------------------------------------------------------------------------------------\n",
    "\n",
    "Sample Input : [11, 13, 101, 14, 33, 141]\n",
    "\n",
    "Sample Output : 313\n",
    "---------------------------------------------------------------------------------------------\n",
    "    \n",
    "Sample Input : [11, 13, 101, 14, 33, 141, 12, 144, 54, 67, 8, 11]\n",
    "\n",
    "Sample Output : -1\n",
    "---------------------------------------------------------------------------------------------\n",
    "\n",
    "Sample Input : [100, 80, 30, 10, 0, 1, 2, 0]\n",
    "\n",
    "Sample Output : 223 '''\n",
    "\n"
   ]
  },
  {
   "cell_type": "code",
   "execution_count": null,
   "metadata": {},
   "outputs": [],
   "source": [
    "import ast,sys\n",
    "input_str=sys.stdin.readline()\n",
    "input_list=ast.literal_eval(input_str)\n",
    "sum =0\n",
    "if len(input_list)<11:\n",
    "    for i in input_list:\n",
    "      sum = sum+ i\n",
    "    print(sum)\n",
    "\n",
    "else:\n",
    "    print(-1)\n",
    "\n"
   ]
  },
  {
   "cell_type": "code",
   "execution_count": null,
   "metadata": {},
   "outputs": [],
   "source": [
    "'''Length of list elements\n",
    "Description\n",
    "Given a list of strings, write a program to find the number of strings whose length is greater than or equal to K, where K is a positive integer.\n",
    "\n",
    "Input - List of strings and an integer\n",
    "\n",
    "﻿Output - Integer\n",
    "\n",
    "--------------------------------------------------------------------------------\n",
    "\n",
    "Sample Input :\n",
    "\n",
    "[Mumbai, Hyderabad, Calicut, Chennai]\n",
    "\n",
    "  9\n",
    "\n",
    "Sample Output: 1\n",
    "\n",
    "-------------------------------------------------------------------------------\n",
    "Sample Input :\n",
    "\n",
    "[Datascience, Data Analyst, Programmer, Manager]\n",
    "\n",
    "  8\n",
    "\n",
    "Sample Output : 3'''"
   ]
  },
  {
   "cell_type": "code",
   "execution_count": null,
   "metadata": {},
   "outputs": [],
   "source": [
    "#Take input here using ast sys\n",
    "import ast,sys\n",
    "input_str=sys.stdin.readline()\n",
    "input_list=ast.literal_eval(input_str)\n",
    "K = int(input())\n",
    "count = 0\n",
    "for elements in input_list:\n",
    "    if len(elements)>=K:\n",
    "        count = count +1\n",
    "print(count)\n",
    "\n"
   ]
  },
  {
   "cell_type": "code",
   "execution_count": null,
   "metadata": {},
   "outputs": [],
   "source": [
    "'''Increment list elements\n",
    "Description\n",
    "Given a list of strings, increment the value of the numeric strings by 'k’. \n",
    "\n",
    "\n",
    "\n",
    "Hint: The function isdigit() may be useful here.\n",
    "\n",
    "\n",
    "\n",
    "---------------------------------------------------------------------------------------------\n",
    "\n",
    "Input - A list in the first line and an integer in the second line\n",
    "\n",
    "Output - A list\n",
    "\n",
    "---------------------------------------------------------------------------------------------\n",
    "\n",
    "Sample Input :\n",
    "\n",
    "['Python', '123', 'Data']\n",
    "\n",
    "  4\n",
    "\n",
    "\n",
    "Sample Output : ['Python', '127', 'Data']\n",
    "\n",
    "---------------------------------------------------------------------------------------------\n",
    "\n",
    "Sample Input :\n",
    "\n",
    "['upGrad', '1991', 'Mumbai']\n",
    "\n",
    "  0\n",
    "\n",
    "Sample Output : ['upGrad', '1991', 'Mumbai']\n",
    "\n",
    "---------------------------------------------------------------------------------------------\n",
    "\n",
    "Sample Input :\n",
    "\n",
    "['Data Science', '100', '10']\n",
    "\n",
    "  10\n",
    "\n",
    "\n",
    "\n",
    "Sample Output : ['Data Science', '110', '20']'''"
   ]
  },
  {
   "cell_type": "code",
   "execution_count": null,
   "metadata": {},
   "outputs": [],
   "source": [
    "#Input has been taken for you\n",
    "import ast\n",
    "input_list = ast.literal_eval(input())\n",
    "K = int(input())\n",
    "list1 = []\n",
    "for element in input_list:\n",
    "    if element.isdigit():\n",
    "        element = int(element) + K\n",
    "        new_element = str(element)\n",
    "        list1.append(new_element)\n",
    "    else:\n",
    "        list1.append(element)\n",
    "print(list1)\n"
   ]
  },
  {
   "cell_type": "code",
   "execution_count": null,
   "metadata": {},
   "outputs": [],
   "source": [
    "'''Slicing a list:\n",
    "\n",
    "Description:\n",
    "\n",
    "Given a list of strings and an integer K, write a python code to print all the elements from the K th position till the end of the list.\n",
    "\n",
    "Note: Assume that K (a positive integer) will always be less than or equal to the length of the list\n",
    "\n",
    "\n",
    "Input - A list of strings in the first line and an integer in the second line of the input.\n",
    "\n",
    "Output - A list\n",
    "\n",
    "--------------------------------------------------------------------------------------------------------\n",
    "Sample Input :\n",
    "\n",
    "['Mumbai', 'Delhi', 'Australia', 'Nigeria', 'USA', 'London', 'Canada']\n",
    "\n",
    "2\n",
    "\n",
    "Sample Output : ['Delhi', 'Australia', 'Nigeria', 'USA', 'London', 'Canada']\n",
    "--------------------------------------------------------------------------------------------------------\n",
    "Sample Input :\n",
    "\n",
    "['Chennai', 'Vizag', 'Austria', 'Germany', 'Japan']\n",
    "\n",
    "3\n",
    "Sample Output : ['Austria', 'Germany', 'Japan']\n",
    "\n",
    "Execution Time Limit\n",
    "10 seconds'''"
   ]
  },
  {
   "cell_type": "code",
   "execution_count": null,
   "metadata": {},
   "outputs": [],
   "source": [
    "#read the input using the ast sys\n",
    "import ast\n",
    "input_list = ast.literal_eval(input())\n",
    "K = int(input())\n",
    "if K<= len(input_list):\n",
    "    print(input_list[K-1:])"
   ]
  },
  {
   "cell_type": "markdown",
   "metadata": {},
   "source": [
    "#  Practice Question 2"
   ]
  },
  {
   "cell_type": "code",
   "execution_count": null,
   "metadata": {},
   "outputs": [],
   "source": [
    "'''Substring with maximum uppercase characters\n",
    "Description\n",
    "Given a string, write a Python program to find the largest substring of uppercase characters and print the length of that substring. Check the sample inputs and outputs for a better understanding.\n",
    "---------------------------------------------------------------------------------------------------\n",
    "\n",
    "Input - String\n",
    "\n",
    "Output - String\n",
    "\n",
    "---------------------------------------------------------------------------------------------------\n",
    "\n",
    "Sample Input - I lovE PRogrAMMING\n",
    "\n",
    "Sample Output - 6\n",
    "\n",
    "Explanation - AMMING is the largest substring with all characters in uppercase continuously \n",
    "-----------------------------------------------------------------------------------------------------\n",
    "\n",
    "Sample Input - MuMbaI is in MAHArashTRA\n",
    "\n",
    "Sample Output - 4\n",
    "Explanation - MAHA is the largest substring with all characters in uppercase continuously.\n",
    "---------------------------------------------------------------------------------------------------\n",
    "Sample Input - India WOn the WOrLD CUP\n",
    "\n",
    "Sample Output - 3\n",
    "Explanation - CUP is the largest substring with all characters in uppercase continuously.\n",
    "\n",
    "Execution Time Limit\n",
    "10 seconds\n",
    "'''"
   ]
  },
  {
   "cell_type": "code",
   "execution_count": null,
   "metadata": {},
   "outputs": [],
   "source": [
    "# #Take input here\n",
    "\n",
    "test_str = input()\n",
    "upper = 0\n",
    "max_upper = []\n",
    "\n",
    "for i in test_str:\n",
    "    if i.isupper():\n",
    "        upper += 1 \n",
    "        max_upper.append(upper)\n",
    "    else:\n",
    "        upper = 0\n",
    "print(max(max_upper))\n"
   ]
  },
  {
   "cell_type": "code",
   "execution_count": null,
   "metadata": {},
   "outputs": [],
   "source": [
    "'''Sorting list of tuples\n",
    "Description\n",
    "A class of students attempt an exam in two parts: ‘Aptitude’ and ‘Physics'. The marks of all the students are stored as a list of tuples, and each student’s marks (in Aptitude and Physics) are stored in each tuple. Your task is to write a Python program to sort the list of tuples in decreasing order of the Physics scores of the students.\n",
    "\n",
    "Note - Marks of both the subjects are ranged between 1-100, and no two students have scored the same marks in Physics.\n",
    "\n",
    "---------------------------------------------------------------------------------------------------\n",
    "\n",
    "Input - List of tuples\n",
    "\n",
    "Output - List of tuples\n",
    "\n",
    "---------------------------------------------------------------------------------------------------\n",
    "\n",
    "Sample Input - [(45,77), (88,87), (67,98), (33,31)]\n",
    "\n",
    "In (45,77), which is the first element in the list, 45 and 77 are the scores of a student in aptitude and physics respectively.\n",
    "\n",
    "Sample Output - [ (67,98), (88,87), (45,77),(33,31)]\n",
    "---------------------------------------------------------------------------------------------------\n",
    "Sample Input - [(45,23), (45,88), (45,98), (45,44)]\n",
    "\n",
    "Sample Output - [ (45,98), (45,88), (45,44),(45,23)]\n",
    "---------------------------------------------------------------------------------------------------\n",
    "Sample Input - [(55,77), (34,90), (67,100), (90,0)]\n",
    "Sample Output - [ (67,100), (34,90), (55,77),(90,0)]\n",
    "\n",
    "Execution Time Limit\n",
    "10 seconds'''"
   ]
  },
  {
   "cell_type": "code",
   "execution_count": null,
   "metadata": {},
   "outputs": [],
   "source": [
    "import ast\n",
    "input_tup = ast.literal_eval(input())\n",
    "\n",
    "sorted_tuple = sorted(input_tup,reverse=True,key= lambda x: x[1])\n",
    "\n",
    "print(sorted_tuple)"
   ]
  },
  {
   "cell_type": "code",
   "execution_count": null,
   "metadata": {},
   "outputs": [],
   "source": [
    "'''Divisibility check:\n",
    "\n",
    "Description:\n",
    "\n",
    "Given an integer ‘n’, your task is to write a Python code to find whether ‘n’ is divisible by all its digits or not. If they divide the number, then the number ‘n’ is a happy number. Otherwise, it is a sad number.\n",
    "\n",
    "The number ‘n’ may be provided with commas. At first, you have to clean the number (by removing the commas involved) and then check whether the number is happy or sad.\n",
    "\n",
    "---------------------------------------------------------------------------------------------------\n",
    "Input - String\n",
    "\n",
    "Output - String\n",
    "---------------------------------------------------------------------------------------------------\n",
    "Sample Input - 2,128\n",
    "\n",
    "Sample Output - Happy Number\n",
    "---------------------------------------------------------------------------------------------------\n",
    "Sample Input - 256\n",
    "\n",
    "Sample Output - Sad Number\n",
    "---------------------------------------------------------------------------------------------------\n",
    "Sample Input - 1124\n",
    "\n",
    "Sample Output - Happy Number\n",
    "---------------------------------------------------------------------------------------------------\n",
    "Execution Time Limit\n",
    "10 seconds'''"
   ]
  },
  {
   "cell_type": "code",
   "execution_count": null,
   "metadata": {},
   "outputs": [],
   "source": [
    "n = input()\n",
    "x = n.replace(',','')\n",
    "flag = True\n",
    "\n",
    "for i in x:\n",
    "    if int(i)!=0 and int(x)%int(i)==0:\n",
    "        flag = True\n",
    "    else:\n",
    "        flag = False\n",
    "        break\n",
    "if flag:\n",
    "    print('Happy Number')\n",
    "else:\n",
    "    print('Sad Number')"
   ]
  },
  {
   "cell_type": "markdown",
   "metadata": {
    "code_folding": []
   },
   "source": [
    "#  Practice Question 3 "
   ]
  },
  {
   "cell_type": "code",
   "execution_count": null,
   "metadata": {},
   "outputs": [],
   "source": [
    "'''Updating the dictionary keys:\n",
    "\n",
    "Description:\n",
    "\n",
    "You are provided with a dictionary containing the names of different football clubs as keys and the name of the main player of the corresponding team as values. When the main player of a team retires, one of their teammates steps up to fill in their role as the main player.\n",
    "\n",
    "You’re also provided with a list which contains the names of the football clubs for which the current main players are retiring and the names of the corresponding new main player. Your task is to update the values in the original dictionary with the names of the new main players.\n",
    "----------------------------------------------------------------------------------------------------\n",
    "Input - The input consists of a dictionary with different football clubs' names and their main player. In the next line, you will be provided with a list of the new players who have taken up the main roles.\n",
    "\n",
    "Output - Dictionary\n",
    "--------------------------------------------------------------------------------------------------\n",
    "Sample Input :\n",
    "{Barcelona:’Messi’ , ‘Real Madrid’: ‘Benzema’, ‘PSG’: ‘Neymar’ }\n",
    "[[‘Barcelona’, ‘Griezmann’], [‘PSG’, ‘Ramos’]]\n",
    "Sample Output: {Barcelona:‘Griezmann’, ‘Real Madrid’: ‘Benzema’, ‘PSG’: ‘Ramos’}\n",
    "--------------------------------------------------------------------------------------------------\n",
    "Sample Input:\n",
    "{Liverpool:’A’, ‘Real Madrid’: ‘B’, ‘Chelsea’: ‘C’ }\n",
    "[[Liverpool, ‘R’]]\n",
    "Sample Output: {Liverpool:’R’, ‘Real Madrid’: ‘B’, ‘Chelsea’: ‘C’ }\n",
    "---------------------------------------------------------------------------------------------------\n",
    "Sample Input :\n",
    " {Atletico Madrid : ’D’ , ‘Juventus’: ‘B’, ‘Chelsea’: ‘C’ }\n",
    "[[‘Juventus’, ‘G’], [‘Chelsea’, ‘H’]]\n",
    "Sample Output: {Atletico Madrid : ’D’, ‘Juventus’: ‘G’, ‘Chelsea’: ‘H’ }\n",
    "Execution Time Limit\n",
    "10 seconds'''"
   ]
  },
  {
   "cell_type": "code",
   "execution_count": null,
   "metadata": {},
   "outputs": [],
   "source": [
    "import ast\n",
    "input_dict = ast.literal_eval(input())\n",
    "input_list = ast.literal_eval(input())\n",
    "\n",
    "def check_in_dict(d,l):\n",
    "    for key in d:\n",
    "        for element in l:\n",
    "            if element[0] == key:\n",
    "                d[key] = element[1]\n",
    "            else:\n",
    "                pass\n",
    "    return d\n",
    "\n",
    "print(check_in_dict(input_dict,input_list))"
   ]
  },
  {
   "cell_type": "code",
   "execution_count": null,
   "metadata": {},
   "outputs": [],
   "source": [
    "'''List average:\n",
    "\n",
    "Description:\n",
    "\n",
    "Suppose you are working as a Marketing Lead in a company and you want to recruit new employees in your team (which already consists of 10 members) to carry out the company’s major project. You select the employees based on five parameters: A, B, C, D and E. The value of each parameter is represented on a scale of 1 to 10. The present average value of these parameters for your team is given to you in a list (in the same order). You recruit a person only if their scores do not reduce the average score of more than two parameters of your team. If they are recruited, print the output as ‘Selected’. If not, print the output as ‘Rejected’.\n",
    "--------------------------------------------------------------------------------------------------\n",
    "Input - Two lists, where the first list is the average scores of the team in the five parameters, and the second list is the scores of the new employee in all the five parameters. The parameter order is the same for both the lists, which is A, B, C, D and E.\n",
    "\n",
    "Output - String\n",
    "--------------------------------------------------------------------------------------------------\n",
    "Sample Input - [‘8’, ‘4’, ‘6’, ‘9’, ‘7’]\n",
    "\n",
    "  [‘1’, ‘1.1’, ‘1.2’, ‘1.2’, ‘2.3’]\n",
    "\n",
    "Sample Output - Rejected\n",
    "--------------------------------------------------------------------------------------------------\n",
    "\n",
    "Sample Input - [‘10’, ‘5’, ‘6’, ‘9’, ‘7’]\n",
    "\n",
    "  [‘10’, ‘ 9.8’, ‘7.2’, ‘1.66’, ‘4.3’]\n",
    "\n",
    "Sample Output - Selected\n",
    "\n",
    "--------------------------------------------------------------------------------------------------\n",
    "\n",
    "Sample Input - [‘8’, ‘5.66’, ‘6.5’, ‘10’, ‘10’]\n",
    "\n",
    "  [‘7’, ‘ 10’, ‘6’, ‘7’, ‘9’]\n",
    "\n",
    "Sample Output - Rejected\n",
    "\n",
    "Execution Time Limit\n",
    "10 seconds'''"
   ]
  },
  {
   "cell_type": "code",
   "execution_count": null,
   "metadata": {},
   "outputs": [],
   "source": [
    "import ast,sys\n",
    "input_list1 = ast.literal_eval(input())\n",
    "input_list2 = ast.literal_eval(input())\n",
    "count = 0\n",
    "for i,j in zip(input_list1, input_list2):\n",
    "    if float(j)>float(i):\n",
    "        count += 1\n",
    "if count>=2:\n",
    "    print(\"Selected\")\n",
    "else:\n",
    "    print(\"Rejected\")"
   ]
  },
  {
   "cell_type": "code",
   "execution_count": null,
   "metadata": {},
   "outputs": [],
   "source": [
    "'''\n",
    "Merge dictionaries\n",
    "Description\n",
    "Write a python code to merge two dictionaries into a single dictionary.\n",
    "--------------------------------------------------------------------------------------------------\n",
    "Input: Two dictionaries, one in each line\n",
    "Output: A Dictionary\n",
    "--------------------------------------------------------------------------------------------------\n",
    "Sample Input :\n",
    "\n",
    "{'a': 10, 'b': 8}\n",
    "\n",
    "{'d': 6, 'c': 4}\n",
    "\n",
    "Sample Output : {'c': 4, 'a': 10, 'b': 8, 'd': 6}\n",
    "\n",
    "--------------------------------------------------------------------------------------------------\n",
    "Sample Input` :\n",
    "\n",
    "{'a': 110, 'b': 88}\n",
    "\n",
    "{'d': 62, 'c': 44}\n",
    "Sample Output : {'a': 110, 'b': 88, 'd': 62, 'c': 44}\n",
    "--------------------------------------------------------------------------------------------------\n",
    "Execution Time Limit\n",
    "10 seconds'''"
   ]
  },
  {
   "cell_type": "code",
   "execution_count": null,
   "metadata": {},
   "outputs": [],
   "source": [
    "import ast,sys\n",
    "input_dictionary1 = input()\n",
    "convert_dictionary1 = ast.literal_eval(input_dictionary1)\n",
    "input_dictionary2 = input()\n",
    "convert_dictionary2 = ast.literal_eval(input_dictionary2)\n",
    "# print({**convert_dictionary1, **convert_dictionary2})\n",
    "\n",
    "convert_dictionary1.update(convert_dictionary2)\n",
    "print(convert_dictionary1)"
   ]
  }
 ],
 "metadata": {
  "kernelspec": {
   "display_name": "Python 3 (ipykernel)",
   "language": "python",
   "name": "python3"
  },
  "language_info": {
   "codemirror_mode": {
    "name": "ipython",
    "version": 3
   },
   "file_extension": ".py",
   "mimetype": "text/x-python",
   "name": "python",
   "nbconvert_exporter": "python",
   "pygments_lexer": "ipython3",
   "version": "3.9.6"
  }
 },
 "nbformat": 4,
 "nbformat_minor": 2
}
